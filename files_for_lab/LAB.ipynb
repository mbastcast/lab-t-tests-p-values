{
 "cells": [
  {
   "cell_type": "code",
   "execution_count": 27,
   "id": "2f6ac9bb-f55d-491d-9eb1-060ee7e29a77",
   "metadata": {},
   "outputs": [],
   "source": [
    "import pandas as pd\n",
    "import numpy as np\n",
    "import math\n",
    "import statistics\n",
    "from scipy.stats import ttest_ind, norm"
   ]
  },
  {
   "cell_type": "code",
   "execution_count": 28,
   "id": "0e28afec-85dc-48a2-bb65-dd997224664a",
   "metadata": {},
   "outputs": [],
   "source": [
    "data = pd.read_csv('machine.csv',sep=\";\")"
   ]
  },
  {
   "cell_type": "code",
   "execution_count": 29,
   "id": "b906d8c6-0c1f-4eff-8212-767207ef5b4d",
   "metadata": {},
   "outputs": [
    {
     "data": {
      "text/html": [
       "<div>\n",
       "<style scoped>\n",
       "    .dataframe tbody tr th:only-of-type {\n",
       "        vertical-align: middle;\n",
       "    }\n",
       "\n",
       "    .dataframe tbody tr th {\n",
       "        vertical-align: top;\n",
       "    }\n",
       "\n",
       "    .dataframe thead th {\n",
       "        text-align: right;\n",
       "    }\n",
       "</style>\n",
       "<table border=\"1\" class=\"dataframe\">\n",
       "  <thead>\n",
       "    <tr style=\"text-align: right;\">\n",
       "      <th></th>\n",
       "      <th>New machine</th>\n",
       "      <th>Old machine</th>\n",
       "    </tr>\n",
       "  </thead>\n",
       "  <tbody>\n",
       "    <tr>\n",
       "      <th>0</th>\n",
       "      <td>42.1</td>\n",
       "      <td>42.7</td>\n",
       "    </tr>\n",
       "    <tr>\n",
       "      <th>1</th>\n",
       "      <td>41.0</td>\n",
       "      <td>43.6</td>\n",
       "    </tr>\n",
       "    <tr>\n",
       "      <th>2</th>\n",
       "      <td>41.3</td>\n",
       "      <td>43.8</td>\n",
       "    </tr>\n",
       "    <tr>\n",
       "      <th>3</th>\n",
       "      <td>41.8</td>\n",
       "      <td>43.3</td>\n",
       "    </tr>\n",
       "    <tr>\n",
       "      <th>4</th>\n",
       "      <td>42.4</td>\n",
       "      <td>42.5</td>\n",
       "    </tr>\n",
       "    <tr>\n",
       "      <th>5</th>\n",
       "      <td>42.8</td>\n",
       "      <td>43.5</td>\n",
       "    </tr>\n",
       "    <tr>\n",
       "      <th>6</th>\n",
       "      <td>43.2</td>\n",
       "      <td>43.1</td>\n",
       "    </tr>\n",
       "    <tr>\n",
       "      <th>7</th>\n",
       "      <td>42.3</td>\n",
       "      <td>41.7</td>\n",
       "    </tr>\n",
       "    <tr>\n",
       "      <th>8</th>\n",
       "      <td>41.8</td>\n",
       "      <td>44.0</td>\n",
       "    </tr>\n",
       "    <tr>\n",
       "      <th>9</th>\n",
       "      <td>42.7</td>\n",
       "      <td>44.1</td>\n",
       "    </tr>\n",
       "  </tbody>\n",
       "</table>\n",
       "</div>"
      ],
      "text/plain": [
       "   New machine      Old machine\n",
       "0         42.1             42.7\n",
       "1         41.0             43.6\n",
       "2         41.3             43.8\n",
       "3         41.8             43.3\n",
       "4         42.4             42.5\n",
       "5         42.8             43.5\n",
       "6         43.2             43.1\n",
       "7         42.3             41.7\n",
       "8         41.8             44.0\n",
       "9         42.7             44.1"
      ]
     },
     "execution_count": 29,
     "metadata": {},
     "output_type": "execute_result"
    }
   ],
   "source": [
    "data"
   ]
  },
  {
   "cell_type": "markdown",
   "id": "168ba21f-1bfc-4fb1-8fcd-2a382890f4fb",
   "metadata": {},
   "source": [
    "We will have another simple example on two sample t test (pooled- when the variances are equal). But this time this is a one sided t-test\n",
    "In a packing plant, a machine packs cartons with jars. It is supposed that a new machine will pack faster on the average than the machine currently used. To test that hypothesis, the times it takes each machine to pack ten cartons are recorded. The results, in seconds, are shown in the tables in the file files_for_lab/machine.txt. Assume that there is sufficient evidence to conduct the t test, does the data provide sufficient evidence to show if one machine is better than the other"
   ]
  },
  {
   "cell_type": "code",
   "execution_count": 30,
   "id": "2f4d3ba2-435e-41df-ba9d-9470e2b91e3a",
   "metadata": {},
   "outputs": [
    {
     "data": {
      "text/html": [
       "<div>\n",
       "<style scoped>\n",
       "    .dataframe tbody tr th:only-of-type {\n",
       "        vertical-align: middle;\n",
       "    }\n",
       "\n",
       "    .dataframe tbody tr th {\n",
       "        vertical-align: top;\n",
       "    }\n",
       "\n",
       "    .dataframe thead th {\n",
       "        text-align: right;\n",
       "    }\n",
       "</style>\n",
       "<table border=\"1\" class=\"dataframe\">\n",
       "  <thead>\n",
       "    <tr style=\"text-align: right;\">\n",
       "      <th></th>\n",
       "      <th>New machine</th>\n",
       "      <th>Old machine</th>\n",
       "    </tr>\n",
       "  </thead>\n",
       "  <tbody>\n",
       "    <tr>\n",
       "      <th>count</th>\n",
       "      <td>10.000000</td>\n",
       "      <td>10.000000</td>\n",
       "    </tr>\n",
       "    <tr>\n",
       "      <th>mean</th>\n",
       "      <td>42.140000</td>\n",
       "      <td>43.230000</td>\n",
       "    </tr>\n",
       "    <tr>\n",
       "      <th>std</th>\n",
       "      <td>0.683455</td>\n",
       "      <td>0.749889</td>\n",
       "    </tr>\n",
       "    <tr>\n",
       "      <th>min</th>\n",
       "      <td>41.000000</td>\n",
       "      <td>41.700000</td>\n",
       "    </tr>\n",
       "    <tr>\n",
       "      <th>25%</th>\n",
       "      <td>41.800000</td>\n",
       "      <td>42.800000</td>\n",
       "    </tr>\n",
       "    <tr>\n",
       "      <th>50%</th>\n",
       "      <td>42.200000</td>\n",
       "      <td>43.400000</td>\n",
       "    </tr>\n",
       "    <tr>\n",
       "      <th>75%</th>\n",
       "      <td>42.625000</td>\n",
       "      <td>43.750000</td>\n",
       "    </tr>\n",
       "    <tr>\n",
       "      <th>max</th>\n",
       "      <td>43.200000</td>\n",
       "      <td>44.100000</td>\n",
       "    </tr>\n",
       "  </tbody>\n",
       "</table>\n",
       "</div>"
      ],
      "text/plain": [
       "       New machine      Old machine\n",
       "count    10.000000        10.000000\n",
       "mean     42.140000        43.230000\n",
       "std       0.683455         0.749889\n",
       "min      41.000000        41.700000\n",
       "25%      41.800000        42.800000\n",
       "50%      42.200000        43.400000\n",
       "75%      42.625000        43.750000\n",
       "max      43.200000        44.100000"
      ]
     },
     "execution_count": 30,
     "metadata": {},
     "output_type": "execute_result"
    }
   ],
   "source": [
    "data.describe()"
   ]
  },
  {
   "cell_type": "code",
   "execution_count": 31,
   "id": "06ffc351-0b86-4050-ac5b-161a1a772e7e",
   "metadata": {},
   "outputs": [
    {
     "data": {
      "text/plain": [
       "Index(['New machine', '    Old machine'], dtype='object')"
      ]
     },
     "execution_count": 31,
     "metadata": {},
     "output_type": "execute_result"
    }
   ],
   "source": [
    "data.columns"
   ]
  },
  {
   "cell_type": "code",
   "execution_count": 32,
   "id": "e43d707c-a109-4722-8fd1-97abb65f0cca",
   "metadata": {},
   "outputs": [],
   "source": [
    "data.rename(columns = {'    Old machine':'Old machine'}, inplace = True)\n"
   ]
  },
  {
   "cell_type": "code",
   "execution_count": 33,
   "id": "0e852e70-b7a4-469c-83d4-9df952deb1ba",
   "metadata": {},
   "outputs": [],
   "source": [
    "sample_mean1 = data[\"New machine\"].mean()\n",
    "sample_mean2 = data[\"Old machine\"].mean()\n",
    "sample_std1 = data[\"New machine\"].std()\n",
    "sample_std2 = data[\"Old machine\"].std()\n",
    "n1 = len(data[\"New machine\"])\n",
    "n2 = len(data[\"Old machine\"])\n",
    "\n",
    "pop_mean = data[\"New machine\"].mean()+data[\"Old machine\"].mean()\n",
    "pop_std = data[\"New machine\"].std()+data[\"Old machine\"].std()\n",
    "n = len(data[\"New machine\"])+len(data[\"Old machine\"])\n",
    "\n",
    "statistic1 = (sample_mean1 - pop_mean)/(pop_std/math.sqrt(n))\n",
    "statistic2 = (sample_mean2 - pop_mean)/(pop_std/math.sqrt(n))"
   ]
  },
  {
   "cell_type": "code",
   "execution_count": 34,
   "id": "03b42310-ed55-4e90-81ed-075e04b7ea51",
   "metadata": {},
   "outputs": [
    {
     "name": "stdout",
     "output_type": "stream",
     "text": [
      "Statistic1 is:  -134.8806821799226\n",
      "Statistic2 is:  -131.47980446592499\n"
     ]
    }
   ],
   "source": [
    "print(\"Statistic1 is: \", statistic1)\n",
    "print(\"Statistic2 is: \", statistic2)"
   ]
  },
  {
   "cell_type": "code",
   "execution_count": 38,
   "id": "1ba10c6f-be17-49ef-ab1a-cd81552ea8cf",
   "metadata": {},
   "outputs": [],
   "source": [
    "new_machine = data['New machine']"
   ]
  },
  {
   "cell_type": "code",
   "execution_count": 39,
   "id": "351189a0-df43-44e5-81ac-aa546e0ce207",
   "metadata": {},
   "outputs": [
    {
     "data": {
      "text/plain": [
       "0    42.1\n",
       "1    41.0\n",
       "2    41.3\n",
       "3    41.8\n",
       "4    42.4\n",
       "5    42.8\n",
       "6    43.2\n",
       "7    42.3\n",
       "8    41.8\n",
       "9    42.7\n",
       "Name: New machine, dtype: float64"
      ]
     },
     "execution_count": 39,
     "metadata": {},
     "output_type": "execute_result"
    }
   ],
   "source": [
    "new_machine"
   ]
  },
  {
   "cell_type": "code",
   "execution_count": 40,
   "id": "98ff7c53-67e3-45bc-9b30-3177ea5a9f63",
   "metadata": {},
   "outputs": [],
   "source": [
    "old_machine = data['Old machine']"
   ]
  },
  {
   "cell_type": "code",
   "execution_count": 41,
   "id": "c2653566-21d1-4446-a093-2d9881c563f3",
   "metadata": {},
   "outputs": [
    {
     "data": {
      "text/plain": [
       "Ttest_indResult(statistic=-3.3972307061176026, pvalue=0.0032111425007745158)"
      ]
     },
     "execution_count": 41,
     "metadata": {},
     "output_type": "execute_result"
    }
   ],
   "source": [
    "ttest_ind(new_machine,old_machine)"
   ]
  },
  {
   "cell_type": "markdown",
   "id": "c90f9912-45ff-436e-b426-35422bf2645b",
   "metadata": {},
   "source": [
    "We reject the null hypothesis.\n",
    "We can say with 95% of confidence that we have enough evidence to discard the null hypothesis.\n",
    "Both machines dont pack at the same speed"
   ]
  }
 ],
 "metadata": {
  "kernelspec": {
   "display_name": "Python 3 (ipykernel)",
   "language": "python",
   "name": "python3"
  },
  "language_info": {
   "codemirror_mode": {
    "name": "ipython",
    "version": 3
   },
   "file_extension": ".py",
   "mimetype": "text/x-python",
   "name": "python",
   "nbconvert_exporter": "python",
   "pygments_lexer": "ipython3",
   "version": "3.9.7"
  }
 },
 "nbformat": 4,
 "nbformat_minor": 5
}
